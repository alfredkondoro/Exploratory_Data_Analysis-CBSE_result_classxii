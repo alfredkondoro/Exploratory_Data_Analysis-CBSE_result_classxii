{
 "cells": [
  {
   "cell_type": "code",
   "execution_count": 1,
   "id": "744c93cb",
   "metadata": {
    "execution": {
     "iopub.execute_input": "2023-08-25T17:41:10.949491Z",
     "iopub.status.busy": "2023-08-25T17:41:10.948441Z",
     "iopub.status.idle": "2023-08-25T17:41:12.481215Z",
     "shell.execute_reply": "2023-08-25T17:41:12.479650Z"
    },
    "papermill": {
     "duration": 1.542873,
     "end_time": "2023-08-25T17:41:12.483648",
     "exception": false,
     "start_time": "2023-08-25T17:41:10.940775",
     "status": "completed"
    },
    "tags": []
   },
   "outputs": [
    {
     "name": "stderr",
     "output_type": "stream",
     "text": [
      "/opt/conda/lib/python3.10/site-packages/scipy/__init__.py:146: UserWarning: A NumPy version >=1.16.5 and <1.23.0 is required for this version of SciPy (detected version 1.23.5\n",
      "  warnings.warn(f\"A NumPy version >={np_minversion} and <{np_maxversion}\"\n"
     ]
    }
   ],
   "source": [
    "import pandas as pd\n",
    "import seaborn as sns\n",
    "import matplotlib.pyplot as plt"
   ]
  },
  {
   "cell_type": "code",
   "execution_count": 2,
   "id": "d1f7b7e7",
   "metadata": {
    "execution": {
     "iopub.execute_input": "2023-08-25T17:41:12.497122Z",
     "iopub.status.busy": "2023-08-25T17:41:12.496447Z",
     "iopub.status.idle": "2023-08-25T17:41:12.548199Z",
     "shell.execute_reply": "2023-08-25T17:41:12.546848Z"
    },
    "papermill": {
     "duration": 0.061319,
     "end_time": "2023-08-25T17:41:12.550630",
     "exception": false,
     "start_time": "2023-08-25T17:41:12.489311",
     "status": "completed"
    },
    "tags": []
   },
   "outputs": [
    {
     "data": {
      "text/html": [
       "<div>\n",
       "<style scoped>\n",
       "    .dataframe tbody tr th:only-of-type {\n",
       "        vertical-align: middle;\n",
       "    }\n",
       "\n",
       "    .dataframe tbody tr th {\n",
       "        vertical-align: top;\n",
       "    }\n",
       "\n",
       "    .dataframe thead th {\n",
       "        text-align: right;\n",
       "    }\n",
       "</style>\n",
       "<table border=\"1\" class=\"dataframe\">\n",
       "  <thead>\n",
       "    <tr style=\"text-align: right;\">\n",
       "      <th></th>\n",
       "      <th>Class</th>\n",
       "      <th>Year</th>\n",
       "      <th>Region</th>\n",
       "      <th>Status</th>\n",
       "      <th>CTSA</th>\n",
       "      <th>GOVT</th>\n",
       "      <th>GOVT AIDED</th>\n",
       "      <th>INDEPENDENT</th>\n",
       "      <th>JNV</th>\n",
       "      <th>KV</th>\n",
       "    </tr>\n",
       "  </thead>\n",
       "  <tbody>\n",
       "    <tr>\n",
       "      <th>0</th>\n",
       "      <td>12</td>\n",
       "      <td>2023</td>\n",
       "      <td>Ajmer</td>\n",
       "      <td>Regd</td>\n",
       "      <td>0</td>\n",
       "      <td>4533</td>\n",
       "      <td>0</td>\n",
       "      <td>86178</td>\n",
       "      <td>3741</td>\n",
       "      <td>7736</td>\n",
       "    </tr>\n",
       "    <tr>\n",
       "      <th>1</th>\n",
       "      <td>12</td>\n",
       "      <td>2023</td>\n",
       "      <td>Ajmer</td>\n",
       "      <td>Appd</td>\n",
       "      <td>0</td>\n",
       "      <td>4524</td>\n",
       "      <td>0</td>\n",
       "      <td>85839</td>\n",
       "      <td>3730</td>\n",
       "      <td>7725</td>\n",
       "    </tr>\n",
       "    <tr>\n",
       "      <th>2</th>\n",
       "      <td>12</td>\n",
       "      <td>2023</td>\n",
       "      <td>Bhubaneswar</td>\n",
       "      <td>Regd</td>\n",
       "      <td>103</td>\n",
       "      <td>7746</td>\n",
       "      <td>0</td>\n",
       "      <td>69835</td>\n",
       "      <td>3823</td>\n",
       "      <td>11465</td>\n",
       "    </tr>\n",
       "    <tr>\n",
       "      <th>3</th>\n",
       "      <td>12</td>\n",
       "      <td>2023</td>\n",
       "      <td>Bhubaneswar</td>\n",
       "      <td>Appd</td>\n",
       "      <td>101</td>\n",
       "      <td>7688</td>\n",
       "      <td>0</td>\n",
       "      <td>69506</td>\n",
       "      <td>3809</td>\n",
       "      <td>11431</td>\n",
       "    </tr>\n",
       "    <tr>\n",
       "      <th>4</th>\n",
       "      <td>12</td>\n",
       "      <td>2023</td>\n",
       "      <td>Chandigarh</td>\n",
       "      <td>Regd</td>\n",
       "      <td>0</td>\n",
       "      <td>13060</td>\n",
       "      <td>55</td>\n",
       "      <td>89637</td>\n",
       "      <td>2549</td>\n",
       "      <td>5861</td>\n",
       "    </tr>\n",
       "  </tbody>\n",
       "</table>\n",
       "</div>"
      ],
      "text/plain": [
       "   Class  Year      Region  Status  CTSA   GOVT  GOVT AIDED  INDEPENDENT  \\\n",
       "0     12  2023        Ajmer   Regd     0   4533           0        86178   \n",
       "1     12  2023        Ajmer   Appd     0   4524           0        85839   \n",
       "2     12  2023  Bhubaneswar   Regd   103   7746           0        69835   \n",
       "3     12  2023  Bhubaneswar   Appd   101   7688           0        69506   \n",
       "4     12  2023   Chandigarh   Regd     0  13060          55        89637   \n",
       "\n",
       "    JNV     KV  \n",
       "0  3741   7736  \n",
       "1  3730   7725  \n",
       "2  3823  11465  \n",
       "3  3809  11431  \n",
       "4  2549   5861  "
      ]
     },
     "execution_count": 2,
     "metadata": {},
     "output_type": "execute_result"
    }
   ],
   "source": [
    "data = pd.read_csv(\"/kaggle/input/cbse-result-statistics-class-xii-2023/class12-2023 (1).csv\")\n",
    "data.head(5)"
   ]
  },
  {
   "cell_type": "code",
   "execution_count": 3,
   "id": "3ba8dea0",
   "metadata": {
    "execution": {
     "iopub.execute_input": "2023-08-25T17:41:12.565592Z",
     "iopub.status.busy": "2023-08-25T17:41:12.565146Z",
     "iopub.status.idle": "2023-08-25T17:41:12.598743Z",
     "shell.execute_reply": "2023-08-25T17:41:12.596824Z"
    },
    "papermill": {
     "duration": 0.043297,
     "end_time": "2023-08-25T17:41:12.600875",
     "exception": false,
     "start_time": "2023-08-25T17:41:12.557578",
     "status": "completed"
    },
    "tags": []
   },
   "outputs": [
    {
     "name": "stdout",
     "output_type": "stream",
     "text": [
      "<class 'pandas.core.frame.DataFrame'>\n",
      "RangeIndex: 32 entries, 0 to 31\n",
      "Data columns (total 10 columns):\n",
      " #   Column       Non-Null Count  Dtype \n",
      "---  ------       --------------  ----- \n",
      " 0   Class        32 non-null     int64 \n",
      " 1   Year         32 non-null     int64 \n",
      " 2   Region       32 non-null     object\n",
      " 3   Status       32 non-null     object\n",
      " 4   CTSA         32 non-null     int64 \n",
      " 5   GOVT         32 non-null     int64 \n",
      " 6   GOVT AIDED   32 non-null     int64 \n",
      " 7   INDEPENDENT  32 non-null     int64 \n",
      " 8   JNV          32 non-null     int64 \n",
      " 9   KV           32 non-null     int64 \n",
      "dtypes: int64(8), object(2)\n",
      "memory usage: 2.6+ KB\n"
     ]
    }
   ],
   "source": [
    "#concise summary of the dataset's characteristics\n",
    "data.info()"
   ]
  },
  {
   "cell_type": "code",
   "execution_count": 4,
   "id": "870a43a9",
   "metadata": {
    "execution": {
     "iopub.execute_input": "2023-08-25T17:41:12.615451Z",
     "iopub.status.busy": "2023-08-25T17:41:12.615065Z",
     "iopub.status.idle": "2023-08-25T17:41:12.651003Z",
     "shell.execute_reply": "2023-08-25T17:41:12.649684Z"
    },
    "papermill": {
     "duration": 0.046449,
     "end_time": "2023-08-25T17:41:12.653487",
     "exception": false,
     "start_time": "2023-08-25T17:41:12.607038",
     "status": "completed"
    },
    "tags": []
   },
   "outputs": [
    {
     "data": {
      "text/html": [
       "<div>\n",
       "<style scoped>\n",
       "    .dataframe tbody tr th:only-of-type {\n",
       "        vertical-align: middle;\n",
       "    }\n",
       "\n",
       "    .dataframe tbody tr th {\n",
       "        vertical-align: top;\n",
       "    }\n",
       "\n",
       "    .dataframe thead th {\n",
       "        text-align: right;\n",
       "    }\n",
       "</style>\n",
       "<table border=\"1\" class=\"dataframe\">\n",
       "  <thead>\n",
       "    <tr style=\"text-align: right;\">\n",
       "      <th></th>\n",
       "      <th>Class</th>\n",
       "      <th>Year</th>\n",
       "      <th>CTSA</th>\n",
       "      <th>GOVT</th>\n",
       "      <th>GOVT AIDED</th>\n",
       "      <th>INDEPENDENT</th>\n",
       "      <th>JNV</th>\n",
       "      <th>KV</th>\n",
       "    </tr>\n",
       "  </thead>\n",
       "  <tbody>\n",
       "    <tr>\n",
       "      <th>count</th>\n",
       "      <td>32.0</td>\n",
       "      <td>32.0</td>\n",
       "      <td>32.000000</td>\n",
       "      <td>32.000000</td>\n",
       "      <td>32.000000</td>\n",
       "      <td>32.000000</td>\n",
       "      <td>32.000000</td>\n",
       "      <td>32.000000</td>\n",
       "    </tr>\n",
       "    <tr>\n",
       "      <th>mean</th>\n",
       "      <td>12.0</td>\n",
       "      <td>2023.0</td>\n",
       "      <td>24.718750</td>\n",
       "      <td>14191.093750</td>\n",
       "      <td>954.031250</td>\n",
       "      <td>66485.000000</td>\n",
       "      <td>2239.718750</td>\n",
       "      <td>5780.406250</td>\n",
       "    </tr>\n",
       "    <tr>\n",
       "      <th>std</th>\n",
       "      <td>0.0</td>\n",
       "      <td>0.0</td>\n",
       "      <td>48.989291</td>\n",
       "      <td>28127.835341</td>\n",
       "      <td>2376.553258</td>\n",
       "      <td>34090.505329</td>\n",
       "      <td>1375.149311</td>\n",
       "      <td>2332.043488</td>\n",
       "    </tr>\n",
       "    <tr>\n",
       "      <th>min</th>\n",
       "      <td>12.0</td>\n",
       "      <td>2023.0</td>\n",
       "      <td>0.000000</td>\n",
       "      <td>70.000000</td>\n",
       "      <td>0.000000</td>\n",
       "      <td>12214.000000</td>\n",
       "      <td>65.000000</td>\n",
       "      <td>2361.000000</td>\n",
       "    </tr>\n",
       "    <tr>\n",
       "      <th>25%</th>\n",
       "      <td>12.0</td>\n",
       "      <td>2023.0</td>\n",
       "      <td>0.000000</td>\n",
       "      <td>337.250000</td>\n",
       "      <td>0.000000</td>\n",
       "      <td>38593.250000</td>\n",
       "      <td>1105.000000</td>\n",
       "      <td>4146.750000</td>\n",
       "    </tr>\n",
       "    <tr>\n",
       "      <th>50%</th>\n",
       "      <td>12.0</td>\n",
       "      <td>2023.0</td>\n",
       "      <td>0.000000</td>\n",
       "      <td>2346.500000</td>\n",
       "      <td>0.000000</td>\n",
       "      <td>66326.500000</td>\n",
       "      <td>2063.000000</td>\n",
       "      <td>5626.500000</td>\n",
       "    </tr>\n",
       "    <tr>\n",
       "      <th>75%</th>\n",
       "      <td>12.0</td>\n",
       "      <td>2023.0</td>\n",
       "      <td>9.500000</td>\n",
       "      <td>9065.750000</td>\n",
       "      <td>66.500000</td>\n",
       "      <td>86962.750000</td>\n",
       "      <td>3647.250000</td>\n",
       "      <td>6966.000000</td>\n",
       "    </tr>\n",
       "    <tr>\n",
       "      <th>max</th>\n",
       "      <td>12.0</td>\n",
       "      <td>2023.0</td>\n",
       "      <td>164.000000</td>\n",
       "      <td>100216.000000</td>\n",
       "      <td>7775.000000</td>\n",
       "      <td>131729.000000</td>\n",
       "      <td>4536.000000</td>\n",
       "      <td>11465.000000</td>\n",
       "    </tr>\n",
       "  </tbody>\n",
       "</table>\n",
       "</div>"
      ],
      "text/plain": [
       "       Class    Year        CTSA           GOVT   GOVT AIDED    INDEPENDENT  \\\n",
       "count   32.0    32.0   32.000000      32.000000    32.000000      32.000000   \n",
       "mean    12.0  2023.0   24.718750   14191.093750   954.031250   66485.000000   \n",
       "std      0.0     0.0   48.989291   28127.835341  2376.553258   34090.505329   \n",
       "min     12.0  2023.0    0.000000      70.000000     0.000000   12214.000000   \n",
       "25%     12.0  2023.0    0.000000     337.250000     0.000000   38593.250000   \n",
       "50%     12.0  2023.0    0.000000    2346.500000     0.000000   66326.500000   \n",
       "75%     12.0  2023.0    9.500000    9065.750000    66.500000   86962.750000   \n",
       "max     12.0  2023.0  164.000000  100216.000000  7775.000000  131729.000000   \n",
       "\n",
       "               JNV            KV  \n",
       "count    32.000000     32.000000  \n",
       "mean   2239.718750   5780.406250  \n",
       "std    1375.149311   2332.043488  \n",
       "min      65.000000   2361.000000  \n",
       "25%    1105.000000   4146.750000  \n",
       "50%    2063.000000   5626.500000  \n",
       "75%    3647.250000   6966.000000  \n",
       "max    4536.000000  11465.000000  "
      ]
     },
     "execution_count": 4,
     "metadata": {},
     "output_type": "execute_result"
    }
   ],
   "source": [
    "data.describe()"
   ]
  },
  {
   "cell_type": "code",
   "execution_count": 5,
   "id": "0bb68ccc",
   "metadata": {
    "execution": {
     "iopub.execute_input": "2023-08-25T17:41:12.667784Z",
     "iopub.status.busy": "2023-08-25T17:41:12.667469Z",
     "iopub.status.idle": "2023-08-25T17:41:12.675555Z",
     "shell.execute_reply": "2023-08-25T17:41:12.674395Z"
    },
    "papermill": {
     "duration": 0.018214,
     "end_time": "2023-08-25T17:41:12.678132",
     "exception": false,
     "start_time": "2023-08-25T17:41:12.659918",
     "status": "completed"
    },
    "tags": []
   },
   "outputs": [
    {
     "data": {
      "text/plain": [
       "Class          0\n",
       "Year           0\n",
       "Region         0\n",
       "Status         0\n",
       "CTSA           0\n",
       "GOVT           0\n",
       "GOVT AIDED     0\n",
       "INDEPENDENT    0\n",
       "JNV            0\n",
       "KV             0\n",
       "dtype: int64"
      ]
     },
     "execution_count": 5,
     "metadata": {},
     "output_type": "execute_result"
    }
   ],
   "source": [
    "data.isnull().sum()"
   ]
  },
  {
   "cell_type": "code",
   "execution_count": 6,
   "id": "438ee4d7",
   "metadata": {
    "execution": {
     "iopub.execute_input": "2023-08-25T17:41:12.694598Z",
     "iopub.status.busy": "2023-08-25T17:41:12.694052Z",
     "iopub.status.idle": "2023-08-25T17:41:12.704888Z",
     "shell.execute_reply": "2023-08-25T17:41:12.703886Z"
    },
    "papermill": {
     "duration": 0.020396,
     "end_time": "2023-08-25T17:41:12.706522",
     "exception": false,
     "start_time": "2023-08-25T17:41:12.686126",
     "status": "completed"
    },
    "tags": []
   },
   "outputs": [
    {
     "name": "stdout",
     "output_type": "stream",
     "text": [
      "[12]\n",
      "[2023]\n",
      "['Ajmer' 'Bhubaneswar' 'Chandigarh' 'Delhi East' 'Pune' 'Guwahati'\n",
      " 'Panchkula' 'Bengaluru' 'Bhopal' 'Chennai' 'Noida' 'Patna' 'Prayagraj'\n",
      " 'Trivandrum' 'Dehradun' 'Delhi West']\n",
      "['Regd' 'Appd']\n"
     ]
    }
   ],
   "source": [
    "print(data['Class'].unique())\n",
    "print(data['Year'].unique())\n",
    "print(data['Region '].unique())\n",
    "print(data['Status'].unique())"
   ]
  },
  {
   "cell_type": "code",
   "execution_count": 7,
   "id": "5cfc4b7d",
   "metadata": {
    "execution": {
     "iopub.execute_input": "2023-08-25T17:41:12.722349Z",
     "iopub.status.busy": "2023-08-25T17:41:12.721358Z",
     "iopub.status.idle": "2023-08-25T17:41:12.739450Z",
     "shell.execute_reply": "2023-08-25T17:41:12.738511Z"
    },
    "papermill": {
     "duration": 0.028352,
     "end_time": "2023-08-25T17:41:12.741312",
     "exception": false,
     "start_time": "2023-08-25T17:41:12.712960",
     "status": "completed"
    },
    "tags": []
   },
   "outputs": [
    {
     "data": {
      "text/html": [
       "<div>\n",
       "<style scoped>\n",
       "    .dataframe tbody tr th:only-of-type {\n",
       "        vertical-align: middle;\n",
       "    }\n",
       "\n",
       "    .dataframe tbody tr th {\n",
       "        vertical-align: top;\n",
       "    }\n",
       "\n",
       "    .dataframe thead th {\n",
       "        text-align: right;\n",
       "    }\n",
       "</style>\n",
       "<table border=\"1\" class=\"dataframe\">\n",
       "  <thead>\n",
       "    <tr style=\"text-align: right;\">\n",
       "      <th></th>\n",
       "      <th>Class</th>\n",
       "      <th>Year</th>\n",
       "      <th>Region</th>\n",
       "      <th>Status</th>\n",
       "      <th>CTSA</th>\n",
       "      <th>GOVT</th>\n",
       "      <th>GOVT AIDED</th>\n",
       "      <th>INDEPENDENT</th>\n",
       "      <th>JNV</th>\n",
       "      <th>KV</th>\n",
       "      <th>sum_column</th>\n",
       "    </tr>\n",
       "  </thead>\n",
       "  <tbody>\n",
       "    <tr>\n",
       "      <th>0</th>\n",
       "      <td>12</td>\n",
       "      <td>2023</td>\n",
       "      <td>Ajmer</td>\n",
       "      <td>Regd</td>\n",
       "      <td>0</td>\n",
       "      <td>4533</td>\n",
       "      <td>0</td>\n",
       "      <td>86178</td>\n",
       "      <td>3741</td>\n",
       "      <td>7736</td>\n",
       "      <td>102188</td>\n",
       "    </tr>\n",
       "    <tr>\n",
       "      <th>1</th>\n",
       "      <td>12</td>\n",
       "      <td>2023</td>\n",
       "      <td>Ajmer</td>\n",
       "      <td>Appd</td>\n",
       "      <td>0</td>\n",
       "      <td>4524</td>\n",
       "      <td>0</td>\n",
       "      <td>85839</td>\n",
       "      <td>3730</td>\n",
       "      <td>7725</td>\n",
       "      <td>101818</td>\n",
       "    </tr>\n",
       "    <tr>\n",
       "      <th>2</th>\n",
       "      <td>12</td>\n",
       "      <td>2023</td>\n",
       "      <td>Bhubaneswar</td>\n",
       "      <td>Regd</td>\n",
       "      <td>103</td>\n",
       "      <td>7746</td>\n",
       "      <td>0</td>\n",
       "      <td>69835</td>\n",
       "      <td>3823</td>\n",
       "      <td>11465</td>\n",
       "      <td>92972</td>\n",
       "    </tr>\n",
       "    <tr>\n",
       "      <th>3</th>\n",
       "      <td>12</td>\n",
       "      <td>2023</td>\n",
       "      <td>Bhubaneswar</td>\n",
       "      <td>Appd</td>\n",
       "      <td>101</td>\n",
       "      <td>7688</td>\n",
       "      <td>0</td>\n",
       "      <td>69506</td>\n",
       "      <td>3809</td>\n",
       "      <td>11431</td>\n",
       "      <td>92535</td>\n",
       "    </tr>\n",
       "    <tr>\n",
       "      <th>4</th>\n",
       "      <td>12</td>\n",
       "      <td>2023</td>\n",
       "      <td>Chandigarh</td>\n",
       "      <td>Regd</td>\n",
       "      <td>0</td>\n",
       "      <td>13060</td>\n",
       "      <td>55</td>\n",
       "      <td>89637</td>\n",
       "      <td>2549</td>\n",
       "      <td>5861</td>\n",
       "      <td>111162</td>\n",
       "    </tr>\n",
       "    <tr>\n",
       "      <th>5</th>\n",
       "      <td>12</td>\n",
       "      <td>2023</td>\n",
       "      <td>Chandigarh</td>\n",
       "      <td>Appd</td>\n",
       "      <td>0</td>\n",
       "      <td>13025</td>\n",
       "      <td>55</td>\n",
       "      <td>89317</td>\n",
       "      <td>2537</td>\n",
       "      <td>5844</td>\n",
       "      <td>110778</td>\n",
       "    </tr>\n",
       "    <tr>\n",
       "      <th>6</th>\n",
       "      <td>12</td>\n",
       "      <td>2023</td>\n",
       "      <td>Delhi East</td>\n",
       "      <td>Regd</td>\n",
       "      <td>0</td>\n",
       "      <td>100216</td>\n",
       "      <td>6420</td>\n",
       "      <td>64953</td>\n",
       "      <td>81</td>\n",
       "      <td>6669</td>\n",
       "      <td>178339</td>\n",
       "    </tr>\n",
       "    <tr>\n",
       "      <th>7</th>\n",
       "      <td>12</td>\n",
       "      <td>2023</td>\n",
       "      <td>Delhi East</td>\n",
       "      <td>Appd</td>\n",
       "      <td>0</td>\n",
       "      <td>99566</td>\n",
       "      <td>6393</td>\n",
       "      <td>64774</td>\n",
       "      <td>81</td>\n",
       "      <td>6661</td>\n",
       "      <td>177475</td>\n",
       "    </tr>\n",
       "    <tr>\n",
       "      <th>8</th>\n",
       "      <td>12</td>\n",
       "      <td>2023</td>\n",
       "      <td>Pune</td>\n",
       "      <td>Regd</td>\n",
       "      <td>0</td>\n",
       "      <td>1535</td>\n",
       "      <td>0</td>\n",
       "      <td>22801</td>\n",
       "      <td>1673</td>\n",
       "      <td>4859</td>\n",
       "      <td>30868</td>\n",
       "    </tr>\n",
       "    <tr>\n",
       "      <th>9</th>\n",
       "      <td>12</td>\n",
       "      <td>2023</td>\n",
       "      <td>Pune</td>\n",
       "      <td>Appd</td>\n",
       "      <td>0</td>\n",
       "      <td>1534</td>\n",
       "      <td>0</td>\n",
       "      <td>22742</td>\n",
       "      <td>1662</td>\n",
       "      <td>4849</td>\n",
       "      <td>30787</td>\n",
       "    </tr>\n",
       "  </tbody>\n",
       "</table>\n",
       "</div>"
      ],
      "text/plain": [
       "   Class  Year      Region  Status  CTSA    GOVT  GOVT AIDED  INDEPENDENT  \\\n",
       "0     12  2023        Ajmer   Regd     0    4533           0        86178   \n",
       "1     12  2023        Ajmer   Appd     0    4524           0        85839   \n",
       "2     12  2023  Bhubaneswar   Regd   103    7746           0        69835   \n",
       "3     12  2023  Bhubaneswar   Appd   101    7688           0        69506   \n",
       "4     12  2023   Chandigarh   Regd     0   13060          55        89637   \n",
       "5     12  2023   Chandigarh   Appd     0   13025          55        89317   \n",
       "6     12  2023   Delhi East   Regd     0  100216        6420        64953   \n",
       "7     12  2023   Delhi East   Appd     0   99566        6393        64774   \n",
       "8     12  2023         Pune   Regd     0    1535           0        22801   \n",
       "9     12  2023         Pune   Appd     0    1534           0        22742   \n",
       "\n",
       "    JNV     KV  sum_column  \n",
       "0  3741   7736      102188  \n",
       "1  3730   7725      101818  \n",
       "2  3823  11465       92972  \n",
       "3  3809  11431       92535  \n",
       "4  2549   5861      111162  \n",
       "5  2537   5844      110778  \n",
       "6    81   6669      178339  \n",
       "7    81   6661      177475  \n",
       "8  1673   4859       30868  \n",
       "9  1662   4849       30787  "
      ]
     },
     "execution_count": 7,
     "metadata": {},
     "output_type": "execute_result"
    }
   ],
   "source": [
    "#a new column 'sum_column' that is the summation of all columns row-wise\n",
    "data['sum_column'] = data[['CTSA', 'GOVT', 'GOVT AIDED', 'INDEPENDENT', 'JNV', 'KV']].sum(axis=1)\n",
    "data.head(10)"
   ]
  },
  {
   "cell_type": "markdown",
   "id": "783059de",
   "metadata": {
    "papermill": {
     "duration": 0.006164,
     "end_time": "2023-08-25T17:41:12.754095",
     "exception": false,
     "start_time": "2023-08-25T17:41:12.747931",
     "status": "completed"
    },
    "tags": []
   },
   "source": [
    "### **Overall Performance Analysis**"
   ]
  },
  {
   "cell_type": "markdown",
   "id": "96ae4f23",
   "metadata": {
    "papermill": {
     "duration": 0.006069,
     "end_time": "2023-08-25T17:41:12.766786",
     "exception": false,
     "start_time": "2023-08-25T17:41:12.760717",
     "status": "completed"
    },
    "tags": []
   },
   "source": [
    "What is the overall pass rate for the CBSE Class XI examinations in 2023?"
   ]
  },
  {
   "cell_type": "code",
   "execution_count": 8,
   "id": "546b3a5d",
   "metadata": {
    "execution": {
     "iopub.execute_input": "2023-08-25T17:41:12.782175Z",
     "iopub.status.busy": "2023-08-25T17:41:12.781485Z",
     "iopub.status.idle": "2023-08-25T17:41:12.790620Z",
     "shell.execute_reply": "2023-08-25T17:41:12.789363Z"
    },
    "papermill": {
     "duration": 0.019231,
     "end_time": "2023-08-25T17:41:12.792567",
     "exception": false,
     "start_time": "2023-08-25T17:41:12.773336",
     "status": "completed"
    },
    "tags": []
   },
   "outputs": [
    {
     "name": "stdout",
     "output_type": "stream",
     "text": [
      "Overall rate for Regd:  50.14\n",
      "Overall rate for Appd:  49.86\n"
     ]
    }
   ],
   "source": [
    "status_regd = 'Regd'\n",
    "status_appd = 'Appd'\n",
    "\n",
    "sum_of_regd = data.loc[data['Status'] == status_regd, 'sum_column'].sum()\n",
    "sum_of_appd = data.loc[data['Status'] == status_appd, 'sum_column'].sum()\n",
    "\n",
    "# Step 2: Calculate the total summation of all data points\n",
    "total_sum = data['sum_column'].sum()\n",
    "\n",
    "# Step 3: Calculate the percentage\n",
    "percent_regd = round((sum_of_regd / total_sum) * 100,2)\n",
    "percent_appd = round((sum_of_appd / total_sum) * 100,2)\n",
    "\n",
    "print(\"Overall rate for Regd: \",percent_regd)\n",
    "print(\"Overall rate for Appd: \",percent_appd)"
   ]
  },
  {
   "cell_type": "markdown",
   "id": "820a7853",
   "metadata": {
    "papermill": {
     "duration": 0.006391,
     "end_time": "2023-08-25T17:41:12.805815",
     "exception": false,
     "start_time": "2023-08-25T17:41:12.799424",
     "status": "completed"
    },
    "tags": []
   },
   "source": [
    "Are there significant variations in pass rates across different regions?"
   ]
  },
  {
   "cell_type": "code",
   "execution_count": 9,
   "id": "61bc4d59",
   "metadata": {
    "execution": {
     "iopub.execute_input": "2023-08-25T17:41:12.821061Z",
     "iopub.status.busy": "2023-08-25T17:41:12.820714Z",
     "iopub.status.idle": "2023-08-25T17:41:13.242995Z",
     "shell.execute_reply": "2023-08-25T17:41:13.242063Z"
    },
    "papermill": {
     "duration": 0.432919,
     "end_time": "2023-08-25T17:41:13.245602",
     "exception": false,
     "start_time": "2023-08-25T17:41:12.812683",
     "status": "completed"
    },
    "tags": []
   },
   "outputs": [
    {
     "data": {
      "image/png": "[encoded data removed]",
      "text/plain": [
       "<Figure size 1000x600 with 1 Axes>"
      ]
     },
     "metadata": {},
     "output_type": "display_data"
    }
   ],
   "source": [
    "rates_variations = data.loc[:, ['Region ', 'Status', 'sum_column']].groupby(['Region ', 'Status']).max().reset_index()\n",
    "\n",
    "# Convert the values to integers\n",
    "rates_variations['sum_column'] = rates_variations['sum_column'].astype(int)\n",
    "\n",
    "#rename the columns for better understanding\n",
    "rates_variations.columns = ['Region', 'Status', 'sum_column']\n",
    "\n",
    "#plotting figure\n",
    "plt.figure(figsize=(10, 6))\n",
    "ax = sns.barplot(x='Region', y='sum_column', data=rates_variations, hue='Status', palette='Blues_d')\n",
    "plt.title('Variations in pass rates across different regions')\n",
    "\n",
    "plt.xticks(rotation=45, ha='right')\n",
    "plt.xlabel('Regions')\n",
    "plt.ylabel('Rate Quantity')\n",
    "# Move legend outside the plot\n",
    "plt.legend(title='Rates', bbox_to_anchor=(1.05, 1), loc='upper left')\n",
    "plt.show()"
   ]
  },
  {
   "cell_type": "markdown",
   "id": "e4613409",
   "metadata": {
    "papermill": {
     "duration": 0.007174,
     "end_time": "2023-08-25T17:41:13.260277",
     "exception": false,
     "start_time": "2023-08-25T17:41:13.253103",
     "status": "completed"
    },
    "tags": []
   },
   "source": [
    "### **School Type Analysis**"
   ]
  },
  {
   "cell_type": "markdown",
   "id": "a7456b68",
   "metadata": {
    "papermill": {
     "duration": 0.006981,
     "end_time": "2023-08-25T17:41:13.274549",
     "exception": false,
     "start_time": "2023-08-25T17:41:13.267568",
     "status": "completed"
    },
    "tags": []
   },
   "source": [
    "How do different types of schools (e.g., CTSA, JNV, KV, government-aided, independent) perform in terms of pass rates?"
   ]
  },
  {
   "cell_type": "markdown",
   "id": "783f2b6e",
   "metadata": {
    "papermill": {
     "duration": 0.007173,
     "end_time": "2023-08-25T17:41:13.289109",
     "exception": false,
     "start_time": "2023-08-25T17:41:13.281936",
     "status": "completed"
    },
    "tags": []
   },
   "source": [
    "How do different types of schools (e.g., CTSA, JNV, KV, government-aided, independent) perform in terms of pass rates?"
   ]
  },
  {
   "cell_type": "markdown",
   "id": "82b85d36",
   "metadata": {
    "papermill": {
     "duration": 0.007126,
     "end_time": "2023-08-25T17:41:13.303557",
     "exception": false,
     "start_time": "2023-08-25T17:41:13.296431",
     "status": "completed"
    },
    "tags": []
   },
   "source": [
    "### **Regional Analysis**"
   ]
  },
  {
   "cell_type": "markdown",
   "id": "0fa553a0",
   "metadata": {
    "papermill": {
     "duration": 0.006826,
     "end_time": "2023-08-25T17:41:13.317560",
     "exception": false,
     "start_time": "2023-08-25T17:41:13.310734",
     "status": "completed"
    },
    "tags": []
   },
   "source": [
    "Which regions have the highest and lowest pass rates?"
   ]
  },
  {
   "cell_type": "markdown",
   "id": "78284c67",
   "metadata": {
    "papermill": {
     "duration": 0.006974,
     "end_time": "2023-08-25T17:41:13.331885",
     "exception": false,
     "start_time": "2023-08-25T17:41:13.324911",
     "status": "completed"
    },
    "tags": []
   },
   "source": [
    "Are there any regional patterns or disparities in student performance?"
   ]
  },
  {
   "cell_type": "markdown",
   "id": "d31d9429",
   "metadata": {
    "papermill": {
     "duration": 0.00698,
     "end_time": "2023-08-25T17:41:13.346037",
     "exception": false,
     "start_time": "2023-08-25T17:41:13.339057",
     "status": "completed"
    },
    "tags": []
   },
   "source": [
    "### **Student Participation**"
   ]
  },
  {
   "cell_type": "markdown",
   "id": "f96c230b",
   "metadata": {
    "papermill": {
     "duration": 0.006759,
     "end_time": "2023-08-25T17:41:13.359951",
     "exception": false,
     "start_time": "2023-08-25T17:41:13.353192",
     "status": "completed"
    },
    "tags": []
   },
   "source": [
    "What is the relationship between the number of registered students and the number of students who appeared for the exams?"
   ]
  },
  {
   "cell_type": "markdown",
   "id": "a3ded089",
   "metadata": {
    "papermill": {
     "duration": 0.007045,
     "end_time": "2023-08-25T17:41:13.374193",
     "exception": false,
     "start_time": "2023-08-25T17:41:13.367148",
     "status": "completed"
    },
    "tags": []
   },
   "source": [
    "Are there regions or school types with particularly high or low participation rates?Are there regions or school types with particularly high or low participation rates?"
   ]
  },
  {
   "cell_type": "markdown",
   "id": "abc52015",
   "metadata": {
    "papermill": {
     "duration": 0.007308,
     "end_time": "2023-08-25T17:41:13.389180",
     "exception": false,
     "start_time": "2023-08-25T17:41:13.381872",
     "status": "completed"
    },
    "tags": []
   },
   "source": [
    "### **Gender Analysis**"
   ]
  },
  {
   "cell_type": "markdown",
   "id": "a58c839b",
   "metadata": {
    "papermill": {
     "duration": 0.006878,
     "end_time": "2023-08-25T17:41:13.403277",
     "exception": false,
     "start_time": "2023-08-25T17:41:13.396399",
     "status": "completed"
    },
    "tags": []
   },
   "source": [
    "Is there a gender-based breakdown of student performance?"
   ]
  },
  {
   "cell_type": "markdown",
   "id": "eb5ef5c9",
   "metadata": {
    "papermill": {
     "duration": 0.006912,
     "end_time": "2023-08-25T17:41:13.417492",
     "exception": false,
     "start_time": "2023-08-25T17:41:13.410580",
     "status": "completed"
    },
    "tags": []
   },
   "source": [
    "Do male and female students have different pass rates, and how does this vary across regions and school types?"
   ]
  },
  {
   "cell_type": "markdown",
   "id": "4fb0b42f",
   "metadata": {
    "papermill": {
     "duration": 0.007144,
     "end_time": "2023-08-25T17:41:13.431890",
     "exception": false,
     "start_time": "2023-08-25T17:41:13.424746",
     "status": "completed"
    },
    "tags": []
   },
   "source": [
    "### **Status vs. Region**"
   ]
  },
  {
   "cell_type": "markdown",
   "id": "e0c40ece",
   "metadata": {
    "papermill": {
     "duration": 0.006985,
     "end_time": "2023-08-25T17:41:13.446162",
     "exception": false,
     "start_time": "2023-08-25T17:41:13.439177",
     "status": "completed"
    },
    "tags": []
   },
   "source": [
    "What is the distribution of pass and fail statuses across different regions?"
   ]
  },
  {
   "cell_type": "markdown",
   "id": "6185487d",
   "metadata": {
    "papermill": {
     "duration": 0.007184,
     "end_time": "2023-08-25T17:41:13.460787",
     "exception": false,
     "start_time": "2023-08-25T17:41:13.453603",
     "status": "completed"
    },
    "tags": []
   },
   "source": [
    "Are there regions with a higher percentage of successful students?"
   ]
  },
  {
   "cell_type": "markdown",
   "id": "1adb53e1",
   "metadata": {
    "papermill": {
     "duration": 0.007029,
     "end_time": "2023-08-25T17:41:13.474960",
     "exception": false,
     "start_time": "2023-08-25T17:41:13.467931",
     "status": "completed"
    },
    "tags": []
   },
   "source": [
    "### **Status vs. School Type**"
   ]
  },
  {
   "cell_type": "markdown",
   "id": "cc6b8e83",
   "metadata": {
    "papermill": {
     "duration": 0.00811,
     "end_time": "2023-08-25T17:41:13.490459",
     "exception": false,
     "start_time": "2023-08-25T17:41:13.482349",
     "status": "completed"
    },
    "tags": []
   },
   "source": [
    "How does the pass/fail status vary among different types of schools?"
   ]
  },
  {
   "cell_type": "markdown",
   "id": "46826c0c",
   "metadata": {
    "papermill": {
     "duration": 0.00749,
     "end_time": "2023-08-25T17:41:13.506518",
     "exception": false,
     "start_time": "2023-08-25T17:41:13.499028",
     "status": "completed"
    },
    "tags": []
   },
   "source": [
    "Are certain school types more successful in terms of student performance?"
   ]
  },
  {
   "cell_type": "markdown",
   "id": "6dd7668d",
   "metadata": {
    "papermill": {
     "duration": 0.006852,
     "end_time": "2023-08-25T17:41:13.520440",
     "exception": false,
     "start_time": "2023-08-25T17:41:13.513588",
     "status": "completed"
    },
    "tags": []
   },
   "source": [
    "### **Relationships Between Variables**"
   ]
  },
  {
   "cell_type": "markdown",
   "id": "65272129",
   "metadata": {
    "papermill": {
     "duration": 0.006672,
     "end_time": "2023-08-25T17:41:13.534025",
     "exception": false,
     "start_time": "2023-08-25T17:41:13.527353",
     "status": "completed"
    },
    "tags": []
   },
   "source": [
    "Is there a correlation between the number of registered students and the pass rate?"
   ]
  },
  {
   "cell_type": "markdown",
   "id": "7d331249",
   "metadata": {
    "papermill": {
     "duration": 0.006829,
     "end_time": "2023-08-25T17:41:13.548260",
     "exception": false,
     "start_time": "2023-08-25T17:41:13.541431",
     "status": "completed"
    },
    "tags": []
   },
   "source": [
    "Are there any other notable relationships or correlations between variables in the dataset?"
   ]
  }
 ],
 "metadata": {
  "kernelspec": {
   "display_name": "Python 3",
   "language": "python",
   "name": "python3"
  },
  "language_info": {
   "codemirror_mode": {
    "name": "ipython",
    "version": 3
   },
   "file_extension": ".py",
   "mimetype": "text/x-python",
   "name": "python",
   "nbconvert_exporter": "python",
   "pygments_lexer": "ipython3",
   "version": "3.10.12"
  },
  "papermill": {
   "default_parameters": {},
   "duration": 12.493251,
   "end_time": "2023-08-25T17:41:14.579680",
   "environment_variables": {},
   "exception": null,
   "input_path": "__notebook__.ipynb",
   "output_path": "__notebook__.ipynb",
   "parameters": {},
   "start_time": "2023-08-25T17:41:02.086429",
   "version": "2.4.0"
  }
 },
 "nbformat": 4,
 "nbformat_minor": 5
}
